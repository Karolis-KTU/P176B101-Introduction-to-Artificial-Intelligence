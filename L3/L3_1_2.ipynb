{
 "cells": [
  {
   "cell_type": "code",
   "execution_count": null,
   "metadata": {},
   "outputs": [],
   "source": [
    "import pandas as pd\n",
    "import matplotlib.pyplot as plt\n",
    "from sklearn.linear_model import LinearRegression\n",
    "import numpy as np\n",
    "import math"
   ]
  },
  {
   "cell_type": "markdown",
   "metadata": {},
   "source": [
    "# Duomenų nuskaitymas"
   ]
  },
  {
   "cell_type": "code",
   "execution_count": null,
   "metadata": {},
   "outputs": [],
   "source": [
    "data_file = \"sunspot.txt\"\n",
    "columns = ['year', 'sun_activity']\n",
    "n = 10\n",
    "data = pd.read_csv(data_file, sep=\"\\t\", header=None, names=columns)\n",
    "print(data)"
   ]
  },
  {
   "cell_type": "markdown",
   "metadata": {},
   "source": [
    "# P ir T matricos"
   ]
  },
  {
   "cell_type": "code",
   "execution_count": null,
   "metadata": {},
   "outputs": [],
   "source": [
    "P = []\n",
    "T = []\n",
    "for i in range(0, len(data) - n):\n",
    "    temp = []\n",
    "    for j in range(n):\n",
    "        temp.append(data[\"sun_activity\"][i + j])\n",
    "    P.append(temp)\n",
    "    T.append([data[\"year\"][i + n], data[\"sun_activity\"][i + n]])\n",
    "\n",
    "T = pd.DataFrame(T, columns=['year', 'sun_activity'])"
   ]
  },
  {
   "cell_type": "markdown",
   "metadata": {},
   "source": [
    "# P ir T duomenų rinkinių išskyrimas"
   ]
  },
  {
   "cell_type": "code",
   "execution_count": null,
   "metadata": {},
   "outputs": [],
   "source": [
    "Pu = P[:200]\n",
    "Tu = T.head(200)"
   ]
  },
  {
   "cell_type": "markdown",
   "metadata": {},
   "source": [
    "# Tiesinio neurono sukūrimas"
   ]
  },
  {
   "cell_type": "code",
   "execution_count": null,
   "metadata": {},
   "outputs": [],
   "source": [
    "class AdaptiveLinearNeuron(object):\n",
    "   def __init__(self, rate = 0.01, niter = 10):\n",
    "      self.rate = rate\n",
    "      self.niter = niter\n",
    "\n",
    "   def fit(self, X, y):\n",
    "      # weights\n",
    "      self.weight = np.zeros(1 + X.shape[1])\n",
    "\n",
    "      # Number of misclassifications\n",
    "      self.errors = []\n",
    "\n",
    "      # Cost function\n",
    "      self.cost = []\n",
    "\n",
    "      for i in range(self.niter):\n",
    "         output = self.net_input(X)\n",
    "         errors = y - output\n",
    "         self.weight[1:] += self.rate * X.T.dot(errors)\n",
    "         self.weight[0] += self.rate * errors.sum()\n",
    "         cost = (errors**2).sum() / 2.0\n",
    "         self.cost.append(cost)\n",
    "      return self\n",
    "\n",
    "   def net_input(self, X):\n",
    "      \"\"\"Calculate net input\"\"\"\n",
    "      return np.dot(X, self.weight[1:]) + self.weight[0]\n",
    "\n",
    "   def activation(self, X):\n",
    "      \"\"\"Compute linear activation\"\"\"\n",
    "      return self.net_input(X)\n",
    "\n",
    "   def predict(self, X):\n",
    "      \"\"\"Return class label after unit step\"\"\"\n",
    "      return self.activation(X)"
   ]
  },
  {
   "cell_type": "code",
   "execution_count": null,
   "metadata": {},
   "outputs": [],
   "source": [
    "for i in range(len(P)):\n",
    "    for j in range(len(P[0])):\n",
    "        P[i][j] /= 100\n",
    "\n",
    "aln1 = AdaptiveLinearNeuron(0.001, 1000).fit(np.array(Pu),np.array(Tu[\"sun_activity\"]))\n",
    "\n",
    "test = aln1.predict(np.array(P[200:]))\n",
    "test = pd.DataFrame(test)\n",
    "min_test_activity = test.min()\n",
    "max_test_activity = test.max()\n",
    "min_activity = data.loc[data[\"year\"] >= 1900 + n, \"sun_activity\"].min()\n",
    "max_activity = data.loc[data[\"year\"] >= 1900 + n, \"sun_activity\"].max()\n",
    "test_mapped = min_activity + (max_activity - min_activity) * (test - min_test_activity) / (max_test_activity - min_test_activity)\n",
    "\n",
    "fig = plt.figure(figsize=(15, 5))\n",
    "plt.plot(T[200:][\"year\"], T[200:][\"sun_activity\"], marker='o')\n",
    "plt.plot(T[200:][\"year\"], test_mapped, marker='o', color='g')\n",
    "plt.xlabel('Metai')\n",
    "plt.ylabel('Saulės dienų aktyvumas')\n",
    "plt.title('Adaptive Linear Neuron - Learning rate 0.001')\n",
    "plt.legend(['Real sun activity', 'Predicted sun activity'])\n",
    "plt.show()\n",
    "\n",
    "# 17\n",
    "print(f\"{aln1.weight}\")\n",
    "\n",
    "plt.plot(range(1, 1000+1), aln1.cost, color='red')\n",
    "plt.xlabel(\"Epochų skaičius\")\n",
    "plt.ylabel(\"MSE\")\n",
    "plt.title(f\"MSE priklausomybė nuo epochų\")\n",
    "plt.show()"
   ]
  },
  {
   "cell_type": "markdown",
   "metadata": {},
   "source": [
    "# MSE reikšmė"
   ]
  },
  {
   "cell_type": "code",
   "execution_count": null,
   "metadata": {},
   "outputs": [],
   "source": [
    "error_sum = 0\n",
    "for i in (T[200:][\"sun_activity\"] - np.array(test).flatten().tolist()):\n",
    "    error_sum += i * i\n",
    "mse = 1 / len(T) * error_sum\n",
    "print(\"MSE: {}\".format(mse))"
   ]
  }
 ],
 "metadata": {
  "kernelspec": {
   "display_name": "Python 3",
   "language": "python",
   "name": "python3"
  },
  "language_info": {
   "codemirror_mode": {
    "name": "ipython",
    "version": 3
   },
   "file_extension": ".py",
   "mimetype": "text/x-python",
   "name": "python",
   "nbconvert_exporter": "python",
   "pygments_lexer": "ipython3",
   "version": "3.12.2"
  }
 },
 "nbformat": 4,
 "nbformat_minor": 2
}
