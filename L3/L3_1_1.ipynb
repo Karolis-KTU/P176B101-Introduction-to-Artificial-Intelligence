{
 "cells": [
  {
   "cell_type": "code",
   "execution_count": null,
   "metadata": {},
   "outputs": [],
   "source": [
    "import pandas as pd\n",
    "import matplotlib.pyplot as plt\n",
    "from sklearn.linear_model import LinearRegression\n",
    "import numpy as np\n",
    "import math"
   ]
  },
  {
   "cell_type": "markdown",
   "metadata": {},
   "source": [
    "# Duomenų nuskaitymas"
   ]
  },
  {
   "cell_type": "code",
   "execution_count": null,
   "metadata": {},
   "outputs": [],
   "source": [
    "data_file = \"sunspot.txt\"\n",
    "columns = ['year', 'sun_activity']\n",
    "n = 6\n",
    "data = pd.read_csv(data_file, sep=\"\\t\", header=None, names=columns)\n",
    "print(data)"
   ]
  },
  {
   "cell_type": "markdown",
   "metadata": {},
   "source": [
    "# Saulės dėmių aktyvumo grafikas"
   ]
  },
  {
   "cell_type": "code",
   "execution_count": null,
   "metadata": {},
   "outputs": [],
   "source": [
    "plt.plot(data['year'], data['sun_activity'], marker='o')\n",
    "plt.xlabel('Metai')\n",
    "plt.ylabel('Saulės dienų aktyvumas')\n",
    "plt.title('Saulės dėmių aktyvumo už 1700-2014 metų grafikas')\n",
    "plt.show()"
   ]
  },
  {
   "cell_type": "markdown",
   "metadata": {},
   "source": [
    "# P ir T matricos"
   ]
  },
  {
   "cell_type": "code",
   "execution_count": null,
   "metadata": {},
   "outputs": [],
   "source": [
    "P = []\n",
    "T = []\n",
    "\n",
    "for i in range (0, len(data) - n):\n",
    "    temp = []\n",
    "    for j in range(n):\n",
    "        temp.append(data[columns[1]][i + j])\n",
    "    P.append(temp)\n",
    "    T.append([data[columns[0]][i + n], data[columns[1]][i + n]])\n",
    "\n",
    "T = pd.DataFrame(T, columns=[columns[0], columns[1]])\n"
   ]
  },
  {
   "cell_type": "markdown",
   "metadata": {},
   "source": [
    "# P ir T trimatė diagrama"
   ]
  },
  {
   "cell_type": "code",
   "execution_count": null,
   "metadata": {},
   "outputs": [],
   "source": [
    "first_year = [i[0] for i in P]\n",
    "second_year = [i[1] for i in P]\n",
    "\n",
    "fig = plt.figure(figsize=(10, 8))\n",
    "ax = plt.axes(projection='3d')\n",
    "ax.scatter(first_year, second_year, T[\"sun_activity\"])\n",
    "ax.set_xlabel('1-ųjų metų saulės aktyvumas')\n",
    "ax.set_ylabel('2-ųjų metų saulės aktyvumas')\n",
    "ax.set_zlabel('Saulės aktyvumas šiais metais')\n",
    "ax.set_title('Saulės veiklos įvesties ir išvesties rezultatai')\n",
    "plt.show()"
   ]
  },
  {
   "cell_type": "markdown",
   "metadata": {},
   "source": [
    "# P ir T duomenų rinkinių išskyrimas"
   ]
  },
  {
   "cell_type": "code",
   "execution_count": null,
   "metadata": {},
   "outputs": [],
   "source": [
    "Pu = P[:200]\n",
    "Tu = T.head(200)"
   ]
  },
  {
   "cell_type": "markdown",
   "metadata": {},
   "source": [
    "# Tiesinės autoregresijos modelio sukūrimas"
   ]
  },
  {
   "cell_type": "code",
   "execution_count": null,
   "metadata": {},
   "outputs": [],
   "source": [
    "x, y = np.array(Pu), np.array(Tu[\"sun_activity\"])\n",
    "model = LinearRegression().fit(x, y)\n",
    "print(f\"intercept: {model.intercept_}\")\n",
    "\n",
    "print(f\"coefficients w1,w2: {model.coef_}\")\n",
    "Tsu = model.predict(x)\n",
    "Rsu = model.predict(np.array(P))"
   ]
  },
  {
   "cell_type": "code",
   "execution_count": null,
   "metadata": {},
   "outputs": [],
   "source": [
    "fig = plt.figure(figsize=(15, 5))\n",
    "plt.plot(Tu[\"year\"], Tu[\"sun_activity\"], marker='o')\n",
    "plt.plot(Tu[\"year\"], Tsu, marker='o')\n",
    "plt.legend(['Real sun activity', 'Predicted sun activity'])\n",
    "plt.xlabel('Metai')\n",
    "plt.ylabel('Saulės dienų aktyvumas')\n",
    "plt.title('saulės dėmių už 1700-1901 metų grafikas')\n",
    "plt.show()"
   ]
  },
  {
   "cell_type": "code",
   "execution_count": null,
   "metadata": {},
   "outputs": [],
   "source": [
    "fig = plt.figure(figsize=(15, 5))\n",
    "plt.plot(T[\"year\"], T[\"sun_activity\"], marker='o')\n",
    "plt.plot(T[\"year\"], Rsu, marker='o')\n",
    "plt.legend(['Real sun activity', 'Predicted sun activity'])\n",
    "plt.xlabel('Metai')\n",
    "plt.ylabel('Saulės dienų aktyvumas')\n",
    "plt.title('saulės aktyvumas už 1700-2014 metų grafikas')\n",
    "plt.show()"
   ]
  },
  {
   "cell_type": "markdown",
   "metadata": {},
   "source": [
    "# Klaidos vektorius"
   ]
  },
  {
   "cell_type": "code",
   "execution_count": null,
   "metadata": {},
   "outputs": [],
   "source": [
    "fig = plt.figure(figsize=(15, 5))\n",
    "plt.plot(T[\"year\"], T[\"sun_activity\"] - Rsu, marker='o')\n",
    "plt.legend(['Error'])\n",
    "plt.xlabel('Metai')\n",
    "plt.ylabel('Error')\n",
    "plt.title('saulės dėmių aktyvumo už 1700-2014 metų grafiko klaidos')\n",
    "plt.show()"
   ]
  },
  {
   "cell_type": "code",
   "execution_count": null,
   "metadata": {},
   "outputs": [],
   "source": [
    "plt.hist(T[\"sun_activity\"] - Rsu)\n",
    "plt.xlabel('Error')\n",
    "plt.ylabel('Quantity')\n",
    "plt.title('saulės dėmių aktyvumo už 1700-2014 metų grafiko klaidos')\n",
    "plt.show()"
   ]
  },
  {
   "cell_type": "markdown",
   "metadata": {},
   "source": [
    "# Vidutinės kvadratinės prognozės klaidos ir absoliutaus nuokrypio medianos apskaičiavimas"
   ]
  },
  {
   "cell_type": "code",
   "execution_count": null,
   "metadata": {},
   "outputs": [],
   "source": [
    "error_sum = 0\n",
    "for i in (T[\"sun_activity\"] - Rsu):\n",
    "    error_sum += math.pow(i, 2)\n",
    "mse = 1 / len(T) * error_sum\n",
    "mde = np.median(np.absolute(T[\"sun_activity\"] - Rsu))\n",
    "print(\"MSE: {}\".format(mse))\n",
    "print(\"MDE: {}\".format(mde))"
   ]
  }
 ],
 "metadata": {
  "kernelspec": {
   "display_name": "Python 3",
   "language": "python",
   "name": "python3"
  },
  "language_info": {
   "codemirror_mode": {
    "name": "ipython",
    "version": 3
   },
   "file_extension": ".py",
   "mimetype": "text/x-python",
   "name": "python",
   "nbconvert_exporter": "python",
   "pygments_lexer": "ipython3",
   "version": "3.12.2"
  }
 },
 "nbformat": 4,
 "nbformat_minor": 2
}
