{
 "cells": [
  {
   "cell_type": "markdown",
   "metadata": {},
   "source": [
    "# Sprendinių medžiai ir atsitiktiniai miškai"
   ]
  },
  {
   "cell_type": "code",
   "execution_count": null,
   "metadata": {},
   "outputs": [],
   "source": [
    "import pandas as pd\n",
    "from sklearn import preprocessing\n",
    "from sklearn.tree import DecisionTreeClassifier\n",
    "from sklearn import tree\n",
    "from sklearn.metrics import accuracy_score, confusion_matrix, ConfusionMatrixDisplay\n",
    "from sklearn.ensemble import RandomForestClassifier\n",
    "import graphviz\n",
    "import time\n",
    "import numpy as np\n",
    "from matplotlib import pyplot as plt\n"
   ]
  },
  {
   "cell_type": "code",
   "execution_count": null,
   "metadata": {},
   "outputs": [],
   "source": [
    "def printData(data, header=[], topic=None):\n",
    "\n",
    "    data_frame = pd.DataFrame(data, columns=(header if len(header) > 0 else data.columns))\n",
    "    pd.set_option('display.max_rows', None)\n",
    "    pd.set_option('display.max_columns', None)\n",
    "    pd.set_option('display.width', None)\n",
    "    if topic:\n",
    "        print(topic)\n",
    "    print(data_frame)\n",
    "    print()\n",
    "\n",
    "def confusionMatrix(test_keepAttr, predicted, classNamesSize, dtc):\n",
    "    conf = confusion_matrix(test_keepAttr, predicted, labels=dtc.classes_)\n",
    "    display_labels = np.round(np.linspace(0, 1, classNamesSize), decimals=2)\n",
    "    disp = ConfusionMatrixDisplay(confusion_matrix=conf, display_labels=display_labels)\n",
    "    disp.plot(cmap='gist_earth')\n",
    "    plt.xlabel('Spėtos reikšmės')\n",
    "    plt.ylabel('Teisingos reikšmės')\n",
    "    plt.title(\"Susimaišymo matrica\")\n",
    "    plt.show()\n",
    "\n",
    "def generateClassNames(data, column_name):\n",
    "    unique_values = data[column_name].unique()\n",
    "    class_names = []\n",
    "    for i in range(len(unique_values)):\n",
    "        if i != len(unique_values):\n",
    "            class_names.append('{:.1f}'.format(i / len(unique_values)))\n",
    "        else:\n",
    "            class_names.append('1')\n",
    "    return class_names"
   ]
  },
  {
   "cell_type": "code",
   "execution_count": null,
   "metadata": {},
   "outputs": [],
   "source": [
    "input_file = 'data.csv'\n",
    "\n",
    "learning_percentage = 60\n",
    "stringCols = ['Type']\n",
    "prediction_attribute = 'quality'\n",
    "depths = [2,4,6,8,10]\n",
    "maxDepth = 10\n",
    "Trees = [3,4,5,6,7,8,9]\n",
    "\n",
    "data = pd.read_csv(input_file)\n",
    "\n",
    "\n",
    "df = pd.DataFrame({\n",
    "    'Atributo pavadinimas': data.columns,\n",
    "    'Kiekis (Eilučių sk.)': data.count(),\n",
    "    'Trūkstamos reikšmės': data.isnull().sum(),\n",
    "    'Kardinalumnas': data.nunique(),\n",
    "    'Tipas': data.dtypes,\n",
    "})\n",
    "\n",
    "df"
   ]
  },
  {
   "cell_type": "code",
   "execution_count": null,
   "metadata": {},
   "outputs": [],
   "source": [
    "# Convert the last categorical column to numerical values\n",
    "for col in stringCols:\n",
    "    data[col] = data[col].astype('category').cat.codes\n",
    "\n",
    "# write to csv\n",
    "if stringCols:\n",
    "    data.to_csv('data_fixed.csv', index=False)"
   ]
  },
  {
   "cell_type": "code",
   "execution_count": null,
   "metadata": {},
   "outputs": [],
   "source": [
    "print(data.head(5))\n",
    "print(data.tail(5))\n"
   ]
  },
  {
   "cell_type": "markdown",
   "metadata": {},
   "source": [
    "## Duomenų rinkinio suskaidymas į apmokymo ir testavimo poaibius"
   ]
  },
  {
   "cell_type": "code",
   "execution_count": null,
   "metadata": {},
   "outputs": [],
   "source": [
    "# Split the data into learning and prediction sets\n",
    "learning_set = data.groupby(prediction_attribute, group_keys=False) \\\n",
    "    .apply(lambda x: x.sample(frac=learning_percentage/100))\n",
    "prediction_set = data.drop(learning_set.index)"
   ]
  },
  {
   "cell_type": "markdown",
   "metadata": {},
   "source": [
    "## Duomenų paruošimas apmokymui ir testavimui"
   ]
  },
  {
   "cell_type": "code",
   "execution_count": null,
   "metadata": {},
   "outputs": [],
   "source": [
    "# Splitting the data into training and testing sets\n",
    "X_train = learning_set.drop(prediction_attribute, axis=1)\n",
    "Y_train = learning_set[prediction_attribute]\n",
    "\n",
    "X_test = prediction_set.drop(prediction_attribute, axis=1)\n",
    "Y_test = prediction_set[prediction_attribute]\n",
    "\n",
    "classNames = generateClassNames(data, prediction_attribute)\n",
    "featureNames = data.drop(columns=prediction_attribute).columns.tolist()\n"
   ]
  },
  {
   "cell_type": "markdown",
   "metadata": {},
   "source": [
    "# Sprendimo medis"
   ]
  },
  {
   "cell_type": "markdown",
   "metadata": {},
   "source": [
    "## Pilnas gylis"
   ]
  },
  {
   "cell_type": "code",
   "execution_count": null,
   "metadata": {},
   "outputs": [],
   "source": [
    "dataToWrite = pd.DataFrame()\n",
    "dtc = DecisionTreeClassifier(criterion=\"gini\")\n",
    "start = time.time()\n",
    "dtc.fit(X_train, Y_train)\n",
    "stop = time.time()\n",
    "predicted = dtc.predict(X_test)\n",
    "correct = accuracy_score(Y_test, predicted, normalize=False)\n",
    "data = tree.export_graphviz(dtc, feature_names=featureNames, class_names=classNames, filled=True)\n",
    "image = graphviz.Source(data, format=\"png\")\n",
    "image.render(\"Sprendimu_medis\", cleanup=True)\n",
    "confusionMatrix(Y_test, predicted, len(classNames), dtc)\n",
    "\n",
    "tempDataToWrite = {\n",
    "    \"Teisingi spėjimai\": [correct],\n",
    "    \"Blogi spėjimai\": [(len(Y_test) - correct)],\n",
    "    \"Tikslumas\": [(correct / len(Y_test)) * 100],\n",
    "    \"Užtruktas laikas\": [stop - start]\n",
    "}\n",
    "tempDataToWrite = pd.DataFrame(tempDataToWrite)\n",
    "dataToWrite = pd.concat([dataToWrite, tempDataToWrite], ignore_index=True)\n",
    "dataToWrite[\"Tikslumas\"] = dataToWrite[\"Tikslumas\"].map(\"{:.2f}%\".format)\n",
    "dataToWrite[\"Užtruktas laikas\"] = dataToWrite[\"Užtruktas laikas\"].map(\"{}s\".format)\n",
    "printData(dataToWrite, [], \"Rezultatai, gauti naudojant sprendimo medį\")"
   ]
  },
  {
   "cell_type": "markdown",
   "metadata": {},
   "source": [
    "## Keleta skirtingų gylių"
   ]
  },
  {
   "cell_type": "code",
   "execution_count": null,
   "metadata": {},
   "outputs": [],
   "source": [
    "dataToPrint = pd.DataFrame()\n",
    "for depth in depths:\n",
    "    dtc = DecisionTreeClassifier(criterion=\"gini\", max_depth=depth)\n",
    "    start = time.time()\n",
    "    dtc.fit(X_train, Y_train)\n",
    "    stop = time.time()\n",
    "    predicted = dtc.predict(X_test)\n",
    "    correct = accuracy_score(Y_test, predicted, normalize=False)\n",
    "\n",
    "    tempDataToWrite = {\n",
    "        \"Gylis\": [depth],\n",
    "        \"Teisingi spėjimai\": [correct],\n",
    "        \"Blogi spėjimai\": [(len(Y_test) - correct)],\n",
    "        \"Tikslumas\": [(correct / len(Y_test)) * 100],\n",
    "        \"Užtruktas laikas\": [stop - start]\n",
    "    }\n",
    "    tempDataToWrite = pd.DataFrame(tempDataToWrite)\n",
    "    dataToPrint = pd.concat([dataToPrint, tempDataToWrite], ignore_index=True)\n",
    "\n",
    "dataToPrint[\"Tikslumas\"] = dataToPrint[\"Tikslumas\"].map(\"{:.2f}%\".format)\n",
    "printData(dataToPrint, [], \"Rezultatai, gauti naudojant sprendimo medį\")\n"
   ]
  },
  {
   "cell_type": "markdown",
   "metadata": {},
   "source": [
    "## Atsitiktinis miskas"
   ]
  },
  {
   "cell_type": "code",
   "execution_count": null,
   "metadata": {},
   "outputs": [],
   "source": [
    "dataToPrint = pd.DataFrame()\n",
    "rfc = RandomForestClassifier(criterion=\"gini\", max_depth=maxDepth, n_estimators=5)\n",
    "start = time.time()\n",
    "rfc.fit(X_train, Y_train)\n",
    "stop = time.time()\n",
    "for count, est in enumerate(rfc.estimators_, 1):\n",
    "    data = tree.export_graphviz(est, feature_names=featureNames, class_names=classNames, filled=True)\n",
    "    image = graphviz.Source(data, format=\"png\")\n",
    "    image.render(f\"Miškas_medis_nr_{count}\", cleanup=True)\n",
    "predicted = rfc.predict(X_test)\n",
    "correct = accuracy_score(Y_test, predicted, normalize=False)\n",
    "tempDataToPrint = {\n",
    "    \"Teisingi spėjimai\": [correct],\n",
    "    \"Blogi spėjimai\": [(len(Y_test) - correct)],\n",
    "    \"Tikslumas\": [(correct / len(Y_test)) * 100],\n",
    "    \"Užtruktas laikas\": [stop - start]\n",
    "}\n",
    "tempDataToPrint = pd.DataFrame(tempDataToPrint)\n",
    "dataToPrint = pd.concat([dataToPrint, tempDataToPrint], ignore_index=True)\n",
    "\n",
    "dataToPrint[\"Tikslumas\"] = dataToPrint[\"Tikslumas\"].map(\"{:.2f}%\".format)\n",
    "printData(dataToPrint, [], \"Rezultatai, gauti naudojant mišką\")"
   ]
  },
  {
   "cell_type": "markdown",
   "metadata": {},
   "source": [
    "## Skirtingi sudarančių medžių kiekiai"
   ]
  },
  {
   "cell_type": "code",
   "execution_count": null,
   "metadata": {},
   "outputs": [],
   "source": [
    "dataToPrint = pd.DataFrame()\n",
    "for tree in Trees:\n",
    "    rfc = RandomForestClassifier(criterion=\"gini\", max_depth=maxDepth, n_estimators=tree)\n",
    "    start = time.time()\n",
    "    rfc.fit(X_train, Y_train)\n",
    "    stop = time.time()\n",
    "\n",
    "    predicted = rfc.predict(X_test)\n",
    "    correct = accuracy_score(Y_test, predicted, normalize=False)\n",
    "    tempDataToPrint = {\n",
    "        \"Medžių kiekis\": [tree],\n",
    "        \"Teisingi spėjimai\": [correct],\n",
    "        \"Blogi spėjimai\": [(len(Y_test) - correct)],\n",
    "        \"Tikslumas\": [(correct / len(Y_test)) * 100],\n",
    "        \"Užtruktas laikas\": [stop - start]\n",
    "    }\n",
    "    tempDataToPrint = pd.DataFrame(tempDataToPrint)\n",
    "    dataToPrint = pd.concat([dataToPrint, tempDataToPrint], ignore_index=True)\n",
    "dataToPrint[\"Tikslumas\"] = dataToPrint[\"Tikslumas\"].map(\"{:.2f}%\".format)\n",
    "dataToPrint[\"Užtruktas laikas\"] = dataToPrint[\"Užtruktas laikas\"].map(\"{}s\".format)\n",
    "printData(dataToPrint, [], \"Rezultatai, gauti naudojant mišką\")"
   ]
  }
 ],
 "metadata": {
  "kernelspec": {
   "display_name": "Python 3",
   "language": "python",
   "name": "python3"
  },
  "language_info": {
   "codemirror_mode": {
    "name": "ipython",
    "version": 3
   },
   "file_extension": ".py",
   "mimetype": "text/x-python",
   "name": "python",
   "nbconvert_exporter": "python",
   "pygments_lexer": "ipython3",
   "version": "3.12.2"
  }
 },
 "nbformat": 4,
 "nbformat_minor": 2
}
