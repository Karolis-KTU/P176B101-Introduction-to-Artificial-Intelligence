{
 "cells": [
  {
   "cell_type": "markdown",
   "metadata": {},
   "source": [
    "# Used Phones & Tablets Pricing Dataset\n",
    "* **os**: OS on which the device runs\n",
    "* **screen_size**: Size of the screen in cm\n",
    "* **4g**: Whether 4G is available or not\n",
    "* **5g**: Whether 5G is available or not\n",
    "* **front_camera_mp**: Resolution of the rear camera in megapixels\n",
    "* **back_camera_mp**: Resolution of the front camera in megapixels\n",
    "* **internal_memory**: Amount of internal memory (ROM) in GB\n",
    "* **ram**: Amount of RAM in GB\n",
    "* **battery**: Energy capacity of the device battery in mAh\n",
    "* **weight**: Weight of the device in grams\n",
    "* **release_year**: Year when the device model was released\n",
    "* **days_used**: Number of days the used/refurbished device has been used\n",
    "* **normalized_new_price**: Normalized price of a new device of the same model\n",
    "* **normalized_used_price** (TARGET): Normalized price of the used/refurbished device"
   ]
  },
  {
   "cell_type": "code",
   "execution_count": null,
   "metadata": {},
   "outputs": [],
   "source": [
    "import pandas as pd\n",
    "import seaborn as sns"
   ]
  },
  {
   "cell_type": "code",
   "execution_count": null,
   "metadata": {},
   "outputs": [],
   "source": [
    "input_file = 'data.csv'\n",
    "\n",
    "data = pd.read_csv(input_file) \n",
    "\n",
    "continious_types = [\n",
    "    'screen_size',\n",
    "    'front_camera_mp',\n",
    "    'rear_camera_mp',\n",
    "    'internal_memory',\n",
    "    'battery',\n",
    "    'weight',\n",
    "    'days_used',\n",
    "    'normalized_new_price',\n",
    "    'normalized_used_price'\n",
    "]\n",
    "\n",
    "categorical_types = [\n",
    "    'device_brand',\n",
    "    'os',\n",
    "    '4g',\n",
    "    '5g',\n",
    "    'ram',\n",
    "    'release_year'\n",
    "]\n",
    "\n",
    "data"
   ]
  },
  {
   "cell_type": "code",
   "execution_count": null,
   "metadata": {},
   "outputs": [],
   "source": [
    "data.info()"
   ]
  },
  {
   "cell_type": "markdown",
   "metadata": {},
   "source": [
    "2. Kiekvienam **tolydinio** tipo atributui paskaičiuoti:\n",
    "* bendrą reikšmių skaičių,\n",
    "* trūkstamų reikšmių procentą,\n",
    "* kardinalumą (**kardinalumas** matematikoje yra aibės savybė, apibendrinanti baigtinės aibės narių kiekio sąvoką. Papraščiau tariant kiek yra skirtingų atributo reikšmių. Pavyzdžiui lyties atributo kardinalumas lygus 2 - t.y., lytis gali turėti tik dvi reikšmes),\n",
    "* minimalią (_min_) ir maksimalią (_max_) reikšmes,\n",
    "* 1-ąją ir 3-iąją kvartilius (žr. 2 paskaitą, 37 skaidrę),\n",
    "* vidurkį (žr. 2 paskaitą, 36 skaidrę),\n",
    "* medianą (žr. 2 paskaitą, 36 skaidrę),\n",
    "* standartinį nuokrypį (žr. 2 paskaitą, 36 skaidrę)."
   ]
  },
  {
   "cell_type": "code",
   "execution_count": null,
   "metadata": {},
   "outputs": [],
   "source": [
    "rows = []\n",
    "\n",
    "for type_name in continious_types:\n",
    "    count = data[type_name].count()\n",
    "    empty_percentage = (1 - count / len(data[type_name])) * 100\n",
    "    unique_values = len(data[type_name].unique())\n",
    "    min_value = data[type_name].min()\n",
    "    max_value = data[type_name].max()\n",
    "    quartile_1 = data[type_name].quantile(0.25)\n",
    "    quartile_3 = data[type_name].quantile(0.75)\n",
    "    average = data[type_name].mean()\n",
    "    median = data[type_name].median()\n",
    "    std_dev = data[type_name].std()\n",
    "\n",
    "    df = pd.DataFrame({\n",
    "        'Atributo pavadinimas': [type_name],\n",
    "        'Kiekis (Eilučių sk.)': [count],\n",
    "        'Trūkstamos reikšmės (%)': [empty_percentage],\n",
    "        'Kardinalumas': [unique_values],\n",
    "        'Minimali reikšmė': [min_value],\n",
    "        'Maksimali reikšmė': [max_value],\n",
    "        '1-asis kvartilis': [quartile_1],\n",
    "        '3-asis kvartilis': [quartile_3],\n",
    "        'Vidurkis': [average],\n",
    "        'Mediana': [median],\n",
    "        'Standartinis nuokrypis': [std_dev]\n",
    "    })\n",
    "\n",
    "    rows.append(df)\n",
    "\n",
    "continious_types_table = pd.concat(rows, ignore_index=True)\n",
    "\n",
    "continious_types_table\n",
    "    "
   ]
  },
  {
   "cell_type": "markdown",
   "metadata": {},
   "source": [
    "3. Kiekvienam **kategorinio** tipo atributui paskaičiuoti:\n",
    "* bendrą reikšmių skaičių,\n",
    "* trūkstamų reikšmių procentą,\n",
    "* kardinalumą,\n",
    "* modą (**moda** - vadinama dažniausiai pasitaikanti imties reikšmė) (žr. 2 paskaitą, 39 skaidrę),\n",
    "* modos dažnumo reikšmę (žr. 2 paskaitą, 39 skaidrę).\n",
    "* modos procentinę reikšmę (žr. 2 pasaitą, 39 skaidrę),\n",
    "* 2-ąją modą (žr. 2 paskaita, 39 skaidrę),\n",
    "* 2-osios modos dažnumo reikšmę (žr. 2 paskaitą, 39 skaidrę),\n",
    "* 2-osios modos procentinę reikšmę (žr. 2 pasaitą, 39 skaidrę)."
   ]
  },
  {
   "cell_type": "code",
   "execution_count": null,
   "metadata": {},
   "outputs": [],
   "source": [
    "rows = []\n",
    "\n",
    "for type_name in categorical_types:\n",
    "    count = data[type_name].count() # Bendras reikšmių skaičius\n",
    "    empty_percentage = (1 - count / len(data[type_name])) * 100 # Trūkstamos reikšmės procentais\n",
    "    unique_values = len(data[type_name].unique()) # Kardinalumas\n",
    "    mode = data[type_name].mode().values[0] # Moda\n",
    "    mode_frequency = data[type_name].value_counts().max() # Modos dažnumas\n",
    "    mode_percentage = (mode_frequency / count) * 100 # Modos dažnumas procentais\n",
    "    second_mode = data[type_name].value_counts().index[1] # Antra modos reikšmė\n",
    "    second_mode_frequency = data[type_name].value_counts().iloc[1] # Antros modos dažnumas\n",
    "    second_mode_percentage = (second_mode_frequency / count) * 100 # Antros modos dažnumas procentais\n",
    "\n",
    "    df = pd.DataFrame({\n",
    "        'Atributo pavadinimas': [type_name],\n",
    "        'Kiekis (Eilučių sk.)': [count],\n",
    "        'Trūkstamos reikšmės (%)': [empty_percentage],\n",
    "        'Kardinalumas': [unique_values],\n",
    "        'Moda': [mode],\n",
    "        'Modos dažnumas': [mode_frequency],\n",
    "        'Moda, %' : [mode_percentage],\n",
    "        '2-oji moda': [second_mode],\n",
    "        '2-osios Modos dažnumas': [second_mode_frequency],\n",
    "        '2-oji Moda, %' : [second_mode_percentage]\n",
    "    })\n",
    "\n",
    "    rows.append(df)\n",
    "\n",
    "categorical_types_table = pd.concat(rows, ignore_index=True)\n",
    "\n",
    "categorical_types_table\n",
    "    "
   ]
  },
  {
   "cell_type": "markdown",
   "metadata": {},
   "source": [
    "# Atributų grafikai"
   ]
  },
  {
   "cell_type": "markdown",
   "metadata": {},
   "source": [
    "## Tolydinio tipo histogramos"
   ]
  },
  {
   "cell_type": "code",
   "execution_count": null,
   "metadata": {},
   "outputs": [],
   "source": [
    "import matplotlib.pyplot as plt\n",
    "import numpy as np\n",
    "import numpy as np\n",
    "\n",
    "# Calculate the recommended number of bins\n",
    "n = len(data)\n",
    "num_bins = int(1 + 3.22 * np.log(n))\n",
    "\n",
    "# Draw histograms for each continuous attribute\n",
    "for column in continious_types:\n",
    "    plt.figure()\n",
    "    data[column].hist(bins=num_bins)\n",
    "    plt.xlabel(column)\n",
    "    plt.ylabel('Frequency')\n",
    "    plt.title(f'Histogram of {column}')\n",
    "    plt.show()\n"
   ]
  },
  {
   "cell_type": "markdown",
   "metadata": {},
   "source": [
    "## Kategorinio tipo stulpelinės diagramos"
   ]
  },
  {
   "cell_type": "code",
   "execution_count": null,
   "metadata": {},
   "outputs": [],
   "source": [
    "import matplotlib.pyplot as plt\n",
    "import numpy as np\n",
    "import numpy as np\n",
    "\n",
    "# Calculate the recommended number of bins\n",
    "n = len(data)\n",
    "num_bins = int(1 + 3.22 * np.log(n))\n",
    "\n",
    "# Draw histograms for each continuous attribute\n",
    "for column in categorical_types:\n",
    "    plt.figure()\n",
    "    data[column].hist(bins=num_bins)\n",
    "    plt.xlabel(column)\n",
    "    plt.ylabel('Frequency')\n",
    "    plt.title(f'Histogram of {column}')\n",
    "    plt.show()"
   ]
  },
  {
   "cell_type": "markdown",
   "metadata": {},
   "source": [
    "# Duomenų kokybės identifikavimas ir sprendimas"
   ]
  },
  {
   "cell_type": "code",
   "execution_count": null,
   "metadata": {},
   "outputs": [],
   "source": [
    "import matplotlib.pyplot as plt\n",
    "\n",
    "columns = [\n",
    "    \"screen_size\",\n",
    "    \"rear_camera_mp\",\n",
    "    \"front_camera_mp\",\n",
    "    \"internal_memory\",\n",
    "    \"ram\",\n",
    "    \"battery\",\n",
    "    \"weight\",\n",
    "    \"normalized_used_price\",\n",
    "    \"normalized_new_price\"\n",
    "]\n",
    "\n",
    "data.dropna(inplace=True)\n",
    "\n",
    "for name in columns:\n",
    "    fig, axs = plt.subplots(ncols=2, figsize=(12, 6))\n",
    "\n",
    "    data.boxplot(column=name, ax=axs[0])\n",
    "    axs[0].set_title(\"Prieš\")\n",
    "\n",
    "    first_quartile = data[name].quantile(0.25)\n",
    "    third_quartile = data[name].quantile(0.75)\n",
    "    top_line = first_quartile - 1.5 * (third_quartile - first_quartile)\n",
    "    bottom_line = third_quartile + 1.5 * (third_quartile - first_quartile)\n",
    "\n",
    "    data_clean = data.drop(data[(data[name] < top_line) | (data[name] > bottom_line)].index)\n",
    "    data_clean.boxplot(column=name, ax=axs[1])\n",
    "    axs[1].set_title(\"Po\")\n",
    "\n",
    "    plt.suptitle(f\"{name}\", fontsize=16)\n",
    "    plt.tight_layout()\n",
    "    plt.show()\n"
   ]
  },
  {
   "cell_type": "markdown",
   "metadata": {},
   "source": [
    "# Atributų sąryšių nustatymas"
   ]
  },
  {
   "cell_type": "markdown",
   "metadata": {},
   "source": [
    "## Tolydinio tipo atributų sąryšiai"
   ]
  },
  {
   "cell_type": "markdown",
   "metadata": {},
   "source": [
    "### Scatter plot"
   ]
  },
  {
   "cell_type": "code",
   "execution_count": null,
   "metadata": {},
   "outputs": [],
   "source": [
    "for continious_x in continious_types:\n",
    "    for continious_y in continious_types:\n",
    "        if(continious_x != continious_y):\n",
    "            data_clean.plot.scatter(continious_x, continious_y)\n",
    "            plt.xlabel(continious_x)\n",
    "            plt.ylabel(continious_y)\n",
    "            plt.title(f'{continious_x} vs {continious_y}')\n",
    "            plt.show()"
   ]
  },
  {
   "cell_type": "markdown",
   "metadata": {},
   "source": [
    "### SPLOM (Scatter Plot Matrix)"
   ]
  },
  {
   "cell_type": "code",
   "execution_count": null,
   "metadata": {},
   "outputs": [],
   "source": [
    "pd.plotting.scatter_matrix(data_clean[continious_types], figsize=(18, 18))\n",
    "plt.show()"
   ]
  },
  {
   "cell_type": "markdown",
   "metadata": {},
   "source": [
    "## Kategorinio tipo atributų sąryšiai"
   ]
  },
  {
   "cell_type": "markdown",
   "metadata": {},
   "source": [
    "### Stulpelinė diagrama"
   ]
  },
  {
   "cell_type": "code",
   "execution_count": null,
   "metadata": {},
   "outputs": [],
   "source": [
    "for categorical_x in categorical_types:\n",
    "    first = data_clean.groupby(categorical_x).size()\n",
    "    first.plot.bar(rot=90, edgecolor = \"black\")\n",
    "    plt.xlabel(None)\n",
    "    plt.ylabel(\"Kiekis\")\n",
    "    plt.title(f'{categorical_x}')\n",
    "    plt.show()\n",
    "    for categorical_y in categorical_types:\n",
    "        if categorical_x != categorical_y:\n",
    "            vars = data_clean[categorical_y].value_counts().keys()\n",
    "            for var in vars:\n",
    "                quantity = data_clean[data_clean[categorical_y] == var]\n",
    "                quantity.groupby(categorical_x).size().plot.bar(rot=90, edgecolor = \"black\")\n",
    "                plt.xlabel(None)\n",
    "                plt.ylabel(\"Kiekis\")\n",
    "                plt.title(f'{categorical_x}, kai \\\"{categorical_y}\\\"={var}')\n",
    "                plt.show()"
   ]
  },
  {
   "cell_type": "markdown",
   "metadata": {},
   "source": [
    "## Kategorinio ir tolydinio tipo atributų sąryšiai"
   ]
  },
  {
   "cell_type": "markdown",
   "metadata": {},
   "source": [
    "## Histograma"
   ]
  },
  {
   "cell_type": "code",
   "execution_count": null,
   "metadata": {},
   "outputs": [],
   "source": [
    "for continious_x in continious_types:\n",
    "    for categorical_y in categorical_types:\n",
    "        vals = data_clean[categorical_y].unique()\n",
    "        for val in vals:\n",
    "            f = data_clean[data_clean[categorical_y] == val]\n",
    "            f.hist(column=continious_x)\n",
    "            plt.xlabel(continious_x)\n",
    "            plt.ylabel('Dažnis')\n",
    "            plt.title(f'{continious_x}, kai {categorical_y}={val}')\n",
    "            plt.show()"
   ]
  },
  {
   "cell_type": "markdown",
   "metadata": {},
   "source": [
    "## Box plot"
   ]
  },
  {
   "cell_type": "code",
   "execution_count": null,
   "metadata": {},
   "outputs": [],
   "source": [
    "for continious_x in continious_types:\n",
    "    for categorical_y in categorical_types:\n",
    "        fig, ax = plt.subplots(figsize=(25, 6))  # Adjust the figsize parameter to make the figure wider\n",
    "        data_clean.boxplot(by=categorical_y, column=continious_x, ax=ax)\n",
    "        plt.xlabel(categorical_y)\n",
    "        plt.ylabel(continious_x)\n",
    "        plt.title(f'{continious_x} su {categorical_y}')\n",
    "        plt.suptitle(None)\n",
    "        plt.show()"
   ]
  },
  {
   "cell_type": "markdown",
   "metadata": {},
   "source": [
    "# Kovariacija ir koreliacija"
   ]
  },
  {
   "cell_type": "code",
   "execution_count": null,
   "metadata": {},
   "outputs": [],
   "source": [
    "data_continious = data_clean[continious_types]\n",
    "covariance = data_continious.cov(numeric_only=True)\n",
    "print(covariance)\n",
    "correlation = data_continious.corr(numeric_only=True)\n",
    "sns.heatmap(correlation, annot=True, fmt=\".2f\")\n",
    "plt.show()"
   ]
  },
  {
   "cell_type": "markdown",
   "metadata": {},
   "source": [
    "# Duomenų normalizavimas"
   ]
  },
  {
   "cell_type": "markdown",
   "metadata": {},
   "source": [
    "## Visų duomenų pavertimas į skaitines reikšmes"
   ]
  },
  {
   "cell_type": "code",
   "execution_count": null,
   "metadata": {},
   "outputs": [],
   "source": [
    "numerical_data = data_clean.copy()\n",
    "numerical_data['device_brand'] = numerical_data['device_brand'].astype('category').cat.codes\n",
    "numerical_data['os'] = numerical_data['os'].astype('category').cat.codes\n",
    "numerical_data['4g'] = numerical_data['4g'].astype('category').cat.codes\n",
    "numerical_data['5g'] = numerical_data['5g'].astype('category').cat.codes"
   ]
  },
  {
   "cell_type": "markdown",
   "metadata": {},
   "source": [
    "## Duomenų normalizavimas"
   ]
  },
  {
   "cell_type": "code",
   "execution_count": null,
   "metadata": {},
   "outputs": [],
   "source": [
    "for column in numerical_data.columns:\n",
    "    numerical_data[column] = (numerical_data[column] - numerical_data[column].min()) / (numerical_data[column].max() - numerical_data[column].min())\n",
    "print(numerical_data)"
   ]
  }
 ],
 "metadata": {
  "kernelspec": {
   "display_name": "Python 3",
   "language": "python",
   "name": "python3"
  },
  "language_info": {
   "codemirror_mode": {
    "name": "ipython",
    "version": 3
   },
   "file_extension": ".py",
   "mimetype": "text/x-python",
   "name": "python",
   "nbconvert_exporter": "python",
   "pygments_lexer": "ipython3",
   "version": "3.11.8"
  }
 },
 "nbformat": 4,
 "nbformat_minor": 2
}
